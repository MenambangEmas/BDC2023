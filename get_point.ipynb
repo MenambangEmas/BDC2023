{
 "cells": [
  {
   "cell_type": "code",
   "execution_count": 4,
   "metadata": {},
   "outputs": [
    {
     "data": {
      "text/html": [
       "<div>\n",
       "<style scoped>\n",
       "    .dataframe tbody tr th:only-of-type {\n",
       "        vertical-align: middle;\n",
       "    }\n",
       "\n",
       "    .dataframe tbody tr th {\n",
       "        vertical-align: top;\n",
       "    }\n",
       "\n",
       "    .dataframe thead th {\n",
       "        text-align: right;\n",
       "    }\n",
       "</style>\n",
       "<table border=\"1\" class=\"dataframe\">\n",
       "  <thead>\n",
       "    <tr style=\"text-align: right;\">\n",
       "      <th></th>\n",
       "      <th>Name of File</th>\n",
       "      <th>Label</th>\n",
       "      <th>Predicted</th>\n",
       "    </tr>\n",
       "  </thead>\n",
       "  <tbody>\n",
       "    <tr>\n",
       "      <th>0</th>\n",
       "      <td>DataTest1.png</td>\n",
       "      <td>AD7034OE</td>\n",
       "      <td>AD7034OE</td>\n",
       "    </tr>\n",
       "    <tr>\n",
       "      <th>1</th>\n",
       "      <td>DataTest2.png</td>\n",
       "      <td>A9388EX</td>\n",
       "      <td>A9388EX</td>\n",
       "    </tr>\n",
       "    <tr>\n",
       "      <th>2</th>\n",
       "      <td>DataTest3.png</td>\n",
       "      <td>B16TB</td>\n",
       "      <td>B16TB</td>\n",
       "    </tr>\n",
       "    <tr>\n",
       "      <th>3</th>\n",
       "      <td>DataTest4.png</td>\n",
       "      <td>B1661TKZ</td>\n",
       "      <td>B1661TKZ</td>\n",
       "    </tr>\n",
       "    <tr>\n",
       "      <th>4</th>\n",
       "      <td>DataTest5.png</td>\n",
       "      <td>AD3772ABE</td>\n",
       "      <td>AD372BE</td>\n",
       "    </tr>\n",
       "    <tr>\n",
       "      <th>...</th>\n",
       "      <td>...</td>\n",
       "      <td>...</td>\n",
       "      <td>...</td>\n",
       "    </tr>\n",
       "    <tr>\n",
       "      <th>95</th>\n",
       "      <td>DataTest96.png</td>\n",
       "      <td>B1285UL</td>\n",
       "      <td>B8465UL</td>\n",
       "    </tr>\n",
       "    <tr>\n",
       "      <th>96</th>\n",
       "      <td>DataTest97.png</td>\n",
       "      <td>AB8644PK</td>\n",
       "      <td>AB8644PK</td>\n",
       "    </tr>\n",
       "    <tr>\n",
       "      <th>97</th>\n",
       "      <td>DataTest98.png</td>\n",
       "      <td>AG9718EG</td>\n",
       "      <td>AG978EG</td>\n",
       "    </tr>\n",
       "    <tr>\n",
       "      <th>98</th>\n",
       "      <td>DataTest99.png</td>\n",
       "      <td>B1509UN</td>\n",
       "      <td>B1509UN</td>\n",
       "    </tr>\n",
       "    <tr>\n",
       "      <th>99</th>\n",
       "      <td>DataTest100.png</td>\n",
       "      <td>B1408RX</td>\n",
       "      <td>B1408RX</td>\n",
       "    </tr>\n",
       "  </tbody>\n",
       "</table>\n",
       "<p>100 rows × 3 columns</p>\n",
       "</div>"
      ],
      "text/plain": [
       "       Name of File      Label Predicted\n",
       "0     DataTest1.png   AD7034OE  AD7034OE\n",
       "1     DataTest2.png    A9388EX   A9388EX\n",
       "2     DataTest3.png      B16TB     B16TB\n",
       "3     DataTest4.png   B1661TKZ  B1661TKZ\n",
       "4     DataTest5.png  AD3772ABE   AD372BE\n",
       "..              ...        ...       ...\n",
       "95   DataTest96.png    B1285UL   B8465UL\n",
       "96   DataTest97.png   AB8644PK  AB8644PK\n",
       "97   DataTest98.png   AG9718EG   AG978EG\n",
       "98   DataTest99.png    B1509UN   B1509UN\n",
       "99  DataTest100.png    B1408RX   B1408RX\n",
       "\n",
       "[100 rows x 3 columns]"
      ]
     },
     "execution_count": 4,
     "metadata": {},
     "output_type": "execute_result"
    }
   ],
   "source": [
    "import pandas as pd\n",
    "df = pd.read_excel(\"compare_4jul_gan.xlsx\")\n",
    "df"
   ]
  },
  {
   "cell_type": "code",
   "execution_count": 5,
   "metadata": {},
   "outputs": [
    {
     "name": "stdout",
     "output_type": "stream",
     "text": [
      "0.9144444444444444\n",
      "100\n"
     ]
    }
   ],
   "source": [
    "def getPoints(true, pred):\n",
    "    pad = min(len(true), len(pred))\n",
    "    counter = 0\n",
    "    for i in range (pad):\n",
    "        if true[i] == pred[i]:\n",
    "            counter += 1\n",
    "    salah = len(true) - counter\n",
    "    return (9-salah)/9\n",
    "summ = 0.0\n",
    "for (true, pred) in zip(df[\"Label\"], df[\"Predicted\"]):\n",
    "    summ += getPoints(true, pred)\n",
    "print(summ/len(df))\n",
    "print(len(df))"
   ]
  },
  {
   "cell_type": "code",
   "execution_count": 6,
   "metadata": {},
   "outputs": [
    {
     "data": {
      "text/plain": [
       "0.6666666666666666"
      ]
     },
     "execution_count": 6,
     "metadata": {},
     "output_type": "execute_result"
    }
   ],
   "source": [
    "getPoints(\"B1000H\", \"B10H\")"
   ]
  },
  {
   "cell_type": "code",
   "execution_count": 26,
   "metadata": {},
   "outputs": [
    {
     "name": "stdout",
     "output_type": "stream",
     "text": [
      "0.6666666666666666\n"
     ]
    }
   ],
   "source": [
    "print(6/9)"
   ]
  },
  {
   "cell_type": "code",
   "execution_count": null,
   "metadata": {},
   "outputs": [],
   "source": []
  }
 ],
 "metadata": {
  "kernelspec": {
   "display_name": "Python 3 (ipykernel)",
   "language": "python",
   "name": "python3"
  },
  "language_info": {
   "codemirror_mode": {
    "name": "ipython",
    "version": 3
   },
   "file_extension": ".py",
   "mimetype": "text/x-python",
   "name": "python",
   "nbconvert_exporter": "python",
   "pygments_lexer": "ipython3",
   "version": "3.9.16"
  },
  "orig_nbformat": 4
 },
 "nbformat": 4,
 "nbformat_minor": 2
}
