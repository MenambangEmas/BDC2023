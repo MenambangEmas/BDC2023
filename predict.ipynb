{
 "cells": [
  {
   "cell_type": "code",
   "execution_count": 1,
   "metadata": {},
   "outputs": [],
   "source": [
    "from ultralytics import YOLO\n",
    "import cv2\n",
    "import torch\n",
    "import numpy as np"
   ]
  },
  {
   "cell_type": "code",
   "execution_count": 2,
   "metadata": {},
   "outputs": [],
   "source": [
    "def segmentation_to_bbox(masks):\n",
    "    segmentation = np.where(masks)\n",
    "\n",
    "    # Bounding Box\n",
    "    bbox = 0, 0, 0, 0\n",
    "    if len(segmentation) != 0 and len(segmentation[1]) != 0 and len(segmentation[0]) != 0:\n",
    "        x_min = int(np.min(segmentation[1]))\n",
    "        x_max = int(np.max(segmentation[1]))\n",
    "        y_min = int(np.min(segmentation[0]))\n",
    "        y_max = int(np.max(segmentation[0]))\n",
    "\n",
    "        bbox = x_min, x_max, y_min, y_max\n",
    "\n",
    "    return bbox\n",
    "\n",
    "\n",
    "def order_points(pts):\n",
    "\t# initialzie a list of coordinates that will be ordered\n",
    "\t# such that the first entry in the list is the top-left,\n",
    "\t# the second entry is the top-right, the third is the\n",
    "\t# bottom-right, and the fourth is the bottom-left\n",
    "\trect = np.zeros((4, 2), dtype = \"float32\")\n",
    "\t# the top-left point will have the smallest sum, whereas\n",
    "\t# the bottom-right point will have the largest sum\n",
    "\ts = pts.sum(axis = 1)\n",
    "\trect[0] = pts[np.argmin(s)]\n",
    "\trect[2] = pts[np.argmax(s)]\n",
    "\t# now, compute the difference between the points, the\n",
    "\t# top-right point will have the smallest difference,\n",
    "\t# whereas the bottom-left will have the largest difference\n",
    "\tdiff = np.diff(pts, axis = 1)\n",
    "\trect[1] = pts[np.argmin(diff)]\n",
    "\trect[3] = pts[np.argmax(diff)]\n",
    "\t# return the ordered coordinates\n",
    "\treturn rect"
   ]
  },
  {
   "cell_type": "code",
   "execution_count": 3,
   "metadata": {},
   "outputs": [],
   "source": [
    "model = YOLO('best.pt')"
   ]
  },
  {
   "cell_type": "code",
   "execution_count": 22,
   "metadata": {},
   "outputs": [],
   "source": [
    "filepath = \"datasets/images/val/\" + \"5879e775-DataTrain1.png\""
   ]
  },
  {
   "cell_type": "code",
   "execution_count": 23,
   "metadata": {},
   "outputs": [
    {
     "name": "stderr",
     "output_type": "stream",
     "text": [
      "\n",
      "image 1/1 c:\\Users\\vitos\\Files\\Projects\\bdc\\penyisihan\\datasets\\images\\val\\5879e775-DataTrain1.png: 224x640 2 License Plates, 157.8ms\n",
      "Speed: 3.5ms preprocess, 157.8ms inference, 4.0ms postprocess per image at shape (1, 3, 640, 640)\n"
     ]
    }
   ],
   "source": [
    "\n",
    "results = model(filepath, imgsz=640)\n",
    "img = cv2.imread(filepath)\n",
    "\n",
    "for result in results:\n",
    "    for mask in result.masks:\n",
    "        dim = mask.data.shape\n",
    "        img = cv2.resize(img, (dim[2], dim[1]))\n",
    "\n",
    "        m = torch.squeeze(mask.data)\n",
    "        composite = torch.stack((m, m, m), 2)\n",
    "        tmp = img * composite.cpu().numpy().astype(np.uint8)\n",
    "        crop = tmp\n",
    "        cv2.imshow(\"original\", img)\n",
    "        cv2.imshow(\"result\", tmp)\n",
    "        cv2.waitKey(0)\n",
    "        break\n",
    "    break\n",
    "cv2.destroyAllWindows()"
   ]
  },
  {
   "cell_type": "code",
   "execution_count": 24,
   "metadata": {},
   "outputs": [],
   "source": [
    "masks = results[0].masks[0].data[0].cpu().numpy()"
   ]
  },
  {
   "cell_type": "code",
   "execution_count": 25,
   "metadata": {},
   "outputs": [],
   "source": [
    "cropped = crop.copy()\n",
    "gray = cv2.cvtColor(cropped, cv2.COLOR_BGR2GRAY)\n",
    "gray = cv2.GaussianBlur(gray, (3, 3), 0)\n",
    "canny = cv2.Canny(gray, 20, 50)\n",
    "kernel = np.ones((3, 3), np.uint8)\n",
    "dilation = cv2.dilate(canny, kernel, iterations=2)\n",
    "erosion = cv2.erode(dilation, kernel, iterations=1)\n",
    "\n",
    "\n",
    "cv2.imshow(\"erosion\", erosion)\n",
    "cv2.waitKey(0)\n",
    "cv2.destroyAllWindows()"
   ]
  },
  {
   "cell_type": "code",
   "execution_count": 26,
   "metadata": {},
   "outputs": [],
   "source": [
    "_, thresh = cv2.threshold(erosion, 45, 255, cv2.THRESH_BINARY)\n",
    "cnts, hierarchy = cv2.findContours(thresh.copy(), cv2.RETR_EXTERNAL,\n",
    "    cv2.CHAIN_APPROX_SIMPLE)"
   ]
  },
  {
   "cell_type": "code",
   "execution_count": 27,
   "metadata": {},
   "outputs": [],
   "source": [
    "# find biggest contour\n",
    "c = max(cnts, key=cv2.contourArea)\n",
    "\n",
    "peri = cv2.arcLength(c, True)\n",
    "approx = cv2.approxPolyDP(c, 0.02 * peri, True)"
   ]
  },
  {
   "cell_type": "code",
   "execution_count": 28,
   "metadata": {},
   "outputs": [],
   "source": [
    "circle = cropped.copy()\n",
    "for i in range(len(approx)):\n",
    "    cv2.circle(circle, (approx[i][0][0], approx[i][0][1]), 3, (0, 255, 0), -1)\n",
    "\n",
    "cv2.imshow(\"circle\", circle)\n",
    "cv2.waitKey(0)\n",
    "cv2.destroyAllWindows()"
   ]
  },
  {
   "cell_type": "code",
   "execution_count": 29,
   "metadata": {},
   "outputs": [],
   "source": [
    "perspective = []\n",
    "rect = approx\n",
    "for i in range(4):\n",
    "    point_before = approx[i % 4][0]\n",
    "    perspective.append((point_before[0], point_before[1]))\n",
    "    point_after = approx[(i + 1) % 4][0]\n",
    "    cv2.line(cropped, point_before, point_after, (0, 255, 0), 2)\n",
    "\n",
    "perspective = order_points(np.array(perspective))\n",
    "\n",
    "cv2.imshow(\"original\", img)\n",
    "cv2.imshow(\"cropped\", cropped)\n",
    "\n",
    "height, width, channels = cropped.shape\n",
    "\n",
    "# pts1 = np.float32([[0, 0], [width - 150, 0], [width, height], [0, height]])\n",
    "pts1 = np.float32(perspective)\n",
    "pts2 = np.float32([[0, 0], [width, 0], [width, height], [0, height]])\n",
    "matrix = cv2.getPerspectiveTransform(pts1, pts2)\n",
    "transformed = cv2.warpPerspective(cropped, matrix, (width, height))\n",
    "\n",
    "cv2.imshow(\"transformed\", transformed)\n",
    "cv2.waitKey(0)\n",
    "cv2.destroyAllWindows()"
   ]
  },
  {
   "cell_type": "code",
   "execution_count": null,
   "metadata": {},
   "outputs": [],
   "source": []
  }
 ],
 "metadata": {
  "kernelspec": {
   "display_name": "ds",
   "language": "python",
   "name": "python3"
  },
  "language_info": {
   "codemirror_mode": {
    "name": "ipython",
    "version": 3
   },
   "file_extension": ".py",
   "mimetype": "text/x-python",
   "name": "python",
   "nbconvert_exporter": "python",
   "pygments_lexer": "ipython3",
   "version": "3.10.11"
  },
  "orig_nbformat": 4
 },
 "nbformat": 4,
 "nbformat_minor": 2
}
