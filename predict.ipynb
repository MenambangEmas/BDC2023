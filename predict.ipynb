{
 "cells": [
  {
   "cell_type": "code",
   "execution_count": 1,
   "metadata": {},
   "outputs": [],
   "source": [
    "from ultralytics import YOLO\n",
    "import cv2\n",
    "import torch\n",
    "import numpy as np\n",
    "import os"
   ]
  },
  {
   "cell_type": "code",
   "execution_count": 2,
   "metadata": {},
   "outputs": [],
   "source": [
    "def segmentation_to_bbox(masks):\n",
    "    segmentation = np.where(masks)\n",
    "\n",
    "    # Bounding Box\n",
    "    bbox = 0, 0, 0, 0\n",
    "    if len(segmentation) != 0 and len(segmentation[1]) != 0 and len(segmentation[0]) != 0:\n",
    "        x_min = int(np.min(segmentation[1]))\n",
    "        x_max = int(np.max(segmentation[1]))\n",
    "        y_min = int(np.min(segmentation[0]))\n",
    "        y_max = int(np.max(segmentation[0]))\n",
    "\n",
    "        bbox = x_min, x_max, y_min, y_max\n",
    "\n",
    "    return bbox\n",
    "\n",
    "\n",
    "def order_points(pts):\n",
    "\t# initialzie a list of coordinates that will be ordered\n",
    "\t# such that the first entry in the list is the top-left,\n",
    "\t# the second entry is the top-right, the third is the\n",
    "\t# bottom-right, and the fourth is the bottom-left\n",
    "\trect = np.zeros((4, 2), dtype = \"float32\")\n",
    "\t# the top-left point will have the smallest sum, whereas\n",
    "\t# the bottom-right point will have the largest sum\n",
    "\ts = pts.sum(axis = 1)\n",
    "\trect[0] = pts[np.argmin(s)]\n",
    "\trect[2] = pts[np.argmax(s)]\n",
    "\t# now, compute the difference between the points, the\n",
    "\t# top-right point will have the smallest difference,\n",
    "\t# whereas the bottom-left will have the largest difference\n",
    "\tdiff = np.diff(pts, axis = 1)\n",
    "\trect[1] = pts[np.argmin(diff)]\n",
    "\trect[3] = pts[np.argmax(diff)]\n",
    "\t# return the ordered coordinates\n",
    "\treturn rect"
   ]
  },
  {
   "cell_type": "code",
   "execution_count": 4,
   "metadata": {},
   "outputs": [],
   "source": [
    "model = YOLO('27-june.pt')"
   ]
  },
  {
   "cell_type": "code",
   "execution_count": 42,
   "metadata": {},
   "outputs": [],
   "source": [
    "filepath = \"Data Test for BDC 2023 - Penyisihan/\" + \"DataTest9.png\"\n",
    "# filepath = \"output_bright.jpg\""
   ]
  },
  {
   "cell_type": "code",
   "execution_count": 44,
   "metadata": {},
   "outputs": [
    {
     "name": "stderr",
     "output_type": "stream",
     "text": [
      "\n",
      "image 1/1 c:\\Users\\vitos\\Files\\Projects\\bdc\\penyisihan\\Data Test for BDC 2023 - Penyisihan\\DataTest9.png: 256x640 1 License Plate, 16.6ms\n",
      "Speed: 1.0ms preprocess, 16.6ms inference, 5.0ms postprocess per image at shape (1, 3, 640, 640)\n"
     ]
    }
   ],
   "source": [
    "results = model(filepath, imgsz=640)\n",
    "img = cv2.imread(filepath)\n",
    "\n",
    "for result in results:\n",
    "    for mask in result.masks:\n",
    "        dim = mask.data.shape\n",
    "        img = cv2.resize(img, (dim[2], dim[1]))\n",
    "\n",
    "        m = torch.squeeze(mask.data)\n",
    "        composite = torch.stack((m, m, m), 2)\n",
    "        tmp = img * composite.cpu().numpy().astype(np.uint8)\n",
    "        crop = tmp\n",
    "        cv2.imshow(\"original\", img)\n",
    "        cv2.imshow(\"result\", tmp)\n",
    "        cv2.waitKey(0)\n",
    "        break\n",
    "    break\n",
    "cv2.destroyAllWindows()"
   ]
  },
  {
   "cell_type": "code",
   "execution_count": 36,
   "metadata": {},
   "outputs": [],
   "source": [
    "masks = results[0].masks[0].data[0].cpu().numpy()"
   ]
  },
  {
   "cell_type": "code",
   "execution_count": 37,
   "metadata": {},
   "outputs": [],
   "source": [
    "cropped = crop.copy()\n",
    "gray = cv2.cvtColor(cropped, cv2.COLOR_BGR2GRAY)\n",
    "gray = cv2.GaussianBlur(gray, (3, 3), 0)\n",
    "canny = cv2.Canny(gray, 20, 50)\n",
    "kernel = np.ones((3, 3), np.uint8)\n",
    "dilation = cv2.dilate(canny, kernel, iterations=2)\n",
    "erosion = cv2.erode(dilation, kernel, iterations=1)\n",
    "\n",
    "\n",
    "cv2.imshow(\"erosion\", erosion)\n",
    "cv2.waitKey(0)\n",
    "cv2.destroyAllWindows()"
   ]
  },
  {
   "cell_type": "code",
   "execution_count": 38,
   "metadata": {},
   "outputs": [],
   "source": [
    "_, thresh = cv2.threshold(erosion, 45, 255, cv2.THRESH_BINARY)\n",
    "cnts, hierarchy = cv2.findContours(thresh.copy(), cv2.RETR_EXTERNAL,\n",
    "    cv2.CHAIN_APPROX_SIMPLE)"
   ]
  },
  {
   "cell_type": "code",
   "execution_count": 39,
   "metadata": {},
   "outputs": [],
   "source": [
    "# find biggest contour\n",
    "c = max(cnts, key=cv2.contourArea)\n",
    "\n",
    "peri = cv2.arcLength(c, True)\n",
    "approx = cv2.approxPolyDP(c, 0.02 * peri, True)"
   ]
  },
  {
   "cell_type": "code",
   "execution_count": 40,
   "metadata": {},
   "outputs": [],
   "source": [
    "circle = cropped.copy()\n",
    "for i in range(len(approx)):\n",
    "    cv2.circle(circle, (approx[i][0][0], approx[i][0][1]), 3, (0, 255, 0), -1)\n",
    "\n",
    "cv2.imshow(\"circle\", circle)\n",
    "cv2.waitKey(0)\n",
    "cv2.destroyAllWindows()"
   ]
  },
  {
   "cell_type": "code",
   "execution_count": 41,
   "metadata": {},
   "outputs": [],
   "source": [
    "perspective = []\n",
    "rect = approx\n",
    "for i in range(len(approx)):\n",
    "    point_before = approx[i % len(approx)][0]\n",
    "    perspective.append((point_before[0], point_before[1]))\n",
    "    point_after = approx[(i + 1) % len(approx)][0]\n",
    "    cv2.line(cropped, point_before, point_after, (0, 255, 0), 2)\n",
    "\n",
    "perspective = order_points(np.array(perspective))\n",
    "\n",
    "cv2.imshow(\"original\", img)\n",
    "cv2.imshow(\"cropped\", cropped)\n",
    "\n",
    "height, width, channels = cropped.shape\n",
    "\n",
    "# pts1 = np.float32([[0, 0], [width - 150, 0], [width, height], [0, height]])\n",
    "pts1 = np.float32(perspective)\n",
    "pts2 = np.float32([[0, 0], [width, 0], [width, height], [0, height]])\n",
    "matrix = cv2.getPerspectiveTransform(pts1, pts2)\n",
    "transformed = cv2.warpPerspective(cropped, matrix, (width, height))\n",
    "\n",
    "cv2.imshow(\"transformed\", transformed)\n",
    "cv2.waitKey(0)\n",
    "cv2.destroyAllWindows()"
   ]
  },
  {
   "attachments": {},
   "cell_type": "markdown",
   "metadata": {},
   "source": [
    "## Pipelining"
   ]
  },
  {
   "cell_type": "code",
   "execution_count": 11,
   "metadata": {},
   "outputs": [
    {
     "name": "stderr",
     "output_type": "stream",
     "text": [
      "\n",
      "image 1/1 c:\\Users\\vitos\\Files\\Projects\\bdc\\penyisihan\\output_bright.jpg: 192x640 1 License Plate, 134.3ms\n",
      "Speed: 3.0ms preprocess, 134.3ms inference, 4.0ms postprocess per image at shape (1, 3, 640, 640)\n"
     ]
    },
    {
     "name": "stdout",
     "output_type": "stream",
     "text": [
      "Saved c:\\Users\\vitos\\Files\\Projects\\bdc\\penyisihan\\stage_1\\output_bright.jpg\n"
     ]
    }
   ],
   "source": [
    "unprocessed_images = []\n",
    "\n",
    "def predict(filepath, model):\n",
    "    return model.predict(filepath, imgsz=640)\n",
    "\n",
    "def pipeline_stage1(filepath, target_dir, model):\n",
    "    results = predict(filepath, model)\n",
    "    img = cv2.imread(filepath)\n",
    "\n",
    "    for result in results:\n",
    "        if result.masks is None:\n",
    "            result_path = os.getcwd() + \"\\\\\" + target_dir + \"\\\\\" + os.path.basename(filepath)\n",
    "            print(\"WARNING: No mask found for image \" + os.path.basename(filepath) + \". Saving original image.\")\n",
    "            unprocessed_images.append(os.path.basename(filepath))\n",
    "            cv2.imwrite(result_path, img)\n",
    "            return\n",
    "\n",
    "        for mask in result.masks:\n",
    "            dim = mask.data.shape\n",
    "            img = cv2.resize(img, (dim[2], dim[1]))\n",
    "\n",
    "            m = torch.squeeze(mask.data)\n",
    "            composite = torch.stack((m, m, m), 2)\n",
    "            tmp = img * composite.cpu().numpy().astype(np.uint8)\n",
    "            crop = tmp\n",
    "            break\n",
    "        break\n",
    "\n",
    "\n",
    "    cropped = crop.copy()\n",
    "    gray = cv2.cvtColor(cropped, cv2.COLOR_BGR2GRAY)\n",
    "    gray = cv2.GaussianBlur(gray, (3, 3), 0)\n",
    "    canny = cv2.Canny(gray, 20, 50)\n",
    "    kernel = np.ones((3, 3), np.uint8)\n",
    "    dilation = cv2.dilate(canny, kernel, iterations=2)\n",
    "    erosion = cv2.erode(dilation, kernel, iterations=1)\n",
    "\n",
    "    _, thresh = cv2.threshold(erosion, 45, 255, cv2.THRESH_BINARY)\n",
    "    cnts, hierarchy = cv2.findContours(thresh.copy(), cv2.RETR_EXTERNAL,\n",
    "        cv2.CHAIN_APPROX_SIMPLE)\n",
    "\n",
    "    c = max(cnts, key=cv2.contourArea)\n",
    "\n",
    "    peri = cv2.arcLength(c, True)\n",
    "    approx = cv2.approxPolyDP(c, 0.02 * peri, True)\n",
    "\n",
    "    perspective = []\n",
    "    for i in range(len(approx)):\n",
    "        point_before = approx[i % len(approx)][0]\n",
    "        perspective.append((point_before[0], point_before[1]))\n",
    "        point_after = approx[(i + 1) % len(approx)][0]\n",
    "        # cv2.line(cropped, point_before, point_after, (0, 255, 0), 2)\n",
    "\n",
    "    perspective = order_points(np.array(perspective))\n",
    "\n",
    "    height, width, channels = cropped.shape\n",
    "\n",
    "    # pts1 = np.float32([[0, 0], [width - 150, 0], [width, height], [0, height]])\n",
    "    pts1 = np.float32(perspective)\n",
    "    pts2 = np.float32([[0, 0], [width, 0], [width, height], [0, height]])\n",
    "    matrix = cv2.getPerspectiveTransform(pts1, pts2)\n",
    "    transformed = cv2.warpPerspective(cropped, matrix, (width, height))\n",
    "\n",
    "    os.makedirs(target_dir, exist_ok=True)\n",
    "\n",
    "    result_path = os.getcwd() + \"\\\\\" + target_dir + \"\\\\\" + os.path.basename(filepath)\n",
    "    cv2.imwrite(result_path, transformed)\n",
    "    print(\"Saved \" + result_path)\n",
    "\n",
    "pipeline_stage1(\"output_bright.jpg\", \"stage_1\", model)"
   ]
  },
  {
   "cell_type": "code",
   "execution_count": 13,
   "metadata": {},
   "outputs": [
    {
     "name": "stderr",
     "output_type": "stream",
     "text": [
      "\n",
      "image 1/1 c:\\Users\\vitos\\Files\\Projects\\bdc\\penyisihan\\Data Test for BDC 2023 - Penyisihan\\DataTest1.png: 224x640 1 License Plate, 155.6ms\n",
      "Speed: 4.0ms preprocess, 155.6ms inference, 7.0ms postprocess per image at shape (1, 3, 640, 640)\n",
      "\n",
      "image 1/1 c:\\Users\\vitos\\Files\\Projects\\bdc\\penyisihan\\Data Test for BDC 2023 - Penyisihan\\DataTest10.png: 256x640 1 License Plate, 102.2ms\n",
      "Speed: 3.0ms preprocess, 102.2ms inference, 3.5ms postprocess per image at shape (1, 3, 640, 640)\n",
      "\n",
      "image 1/1 c:\\Users\\vitos\\Files\\Projects\\bdc\\penyisihan\\Data Test for BDC 2023 - Penyisihan\\DataTest100.png: 192x640 1 License Plate, 15.7ms\n",
      "Speed: 1.5ms preprocess, 15.7ms inference, 4.0ms postprocess per image at shape (1, 3, 640, 640)\n",
      "\n",
      "image 1/1 c:\\Users\\vitos\\Files\\Projects\\bdc\\penyisihan\\Data Test for BDC 2023 - Penyisihan\\DataTest11.png: 224x640 1 License Plate, 17.6ms\n"
     ]
    },
    {
     "name": "stdout",
     "output_type": "stream",
     "text": [
      "Saved c:\\Users\\vitos\\Files\\Projects\\bdc\\penyisihan\\raw_data/test\\DataTest1.png\n",
      "Saved c:\\Users\\vitos\\Files\\Projects\\bdc\\penyisihan\\raw_data/test\\DataTest10.png\n",
      "Saved c:\\Users\\vitos\\Files\\Projects\\bdc\\penyisihan\\raw_data/test\\DataTest100.png\n"
     ]
    },
    {
     "name": "stderr",
     "output_type": "stream",
     "text": [
      "Speed: 1.0ms preprocess, 17.6ms inference, 3.0ms postprocess per image at shape (1, 3, 640, 640)\n",
      "\n",
      "image 1/1 c:\\Users\\vitos\\Files\\Projects\\bdc\\penyisihan\\Data Test for BDC 2023 - Penyisihan\\DataTest12.png: 224x640 1 License Plate, 16.7ms\n",
      "Speed: 1.0ms preprocess, 16.7ms inference, 4.0ms postprocess per image at shape (1, 3, 640, 640)\n",
      "\n",
      "image 1/1 c:\\Users\\vitos\\Files\\Projects\\bdc\\penyisihan\\Data Test for BDC 2023 - Penyisihan\\DataTest13.png: 224x640 1 License Plate, 17.1ms\n",
      "Speed: 0.5ms preprocess, 17.1ms inference, 3.0ms postprocess per image at shape (1, 3, 640, 640)\n",
      "\n",
      "image 1/1 c:\\Users\\vitos\\Files\\Projects\\bdc\\penyisihan\\Data Test for BDC 2023 - Penyisihan\\DataTest14.png: 224x640 1 License Plate, 17.0ms\n",
      "Speed: 1.0ms preprocess, 17.0ms inference, 3.0ms postprocess per image at shape (1, 3, 640, 640)\n",
      "\n",
      "image 1/1 c:\\Users\\vitos\\Files\\Projects\\bdc\\penyisihan\\Data Test for BDC 2023 - Penyisihan\\DataTest15.png: 352x640 1 License Plate, 20.5ms\n",
      "Speed: 2.0ms preprocess, 20.5ms inference, 3.0ms postprocess per image at shape (1, 3, 640, 640)\n",
      "\n",
      "image 1/1 c:\\Users\\vitos\\Files\\Projects\\bdc\\penyisihan\\Data Test for BDC 2023 - Penyisihan\\DataTest16.png: 288x640 1 License Plate, 18.0ms\n"
     ]
    },
    {
     "name": "stdout",
     "output_type": "stream",
     "text": [
      "Saved c:\\Users\\vitos\\Files\\Projects\\bdc\\penyisihan\\raw_data/test\\DataTest11.png\n",
      "Saved c:\\Users\\vitos\\Files\\Projects\\bdc\\penyisihan\\raw_data/test\\DataTest12.png\n",
      "Saved c:\\Users\\vitos\\Files\\Projects\\bdc\\penyisihan\\raw_data/test\\DataTest13.png\n",
      "Saved c:\\Users\\vitos\\Files\\Projects\\bdc\\penyisihan\\raw_data/test\\DataTest14.png\n",
      "Saved c:\\Users\\vitos\\Files\\Projects\\bdc\\penyisihan\\raw_data/test\\DataTest15.png\n"
     ]
    },
    {
     "name": "stderr",
     "output_type": "stream",
     "text": [
      "Speed: 1.0ms preprocess, 18.0ms inference, 3.0ms postprocess per image at shape (1, 3, 640, 640)\n",
      "\n",
      "image 1/1 c:\\Users\\vitos\\Files\\Projects\\bdc\\penyisihan\\Data Test for BDC 2023 - Penyisihan\\DataTest17.png: 224x640 1 License Plate, 19.7ms\n",
      "Speed: 1.0ms preprocess, 19.7ms inference, 3.0ms postprocess per image at shape (1, 3, 640, 640)\n",
      "\n",
      "image 1/1 c:\\Users\\vitos\\Files\\Projects\\bdc\\penyisihan\\Data Test for BDC 2023 - Penyisihan\\DataTest18.png: 224x640 1 License Plate, 19.0ms\n",
      "Speed: 1.0ms preprocess, 19.0ms inference, 6.5ms postprocess per image at shape (1, 3, 640, 640)\n",
      "\n",
      "image 1/1 c:\\Users\\vitos\\Files\\Projects\\bdc\\penyisihan\\Data Test for BDC 2023 - Penyisihan\\DataTest19.png: 224x640 1 License Plate, 14.8ms\n",
      "Speed: 1.0ms preprocess, 14.8ms inference, 4.0ms postprocess per image at shape (1, 3, 640, 640)\n",
      "\n",
      "image 1/1 c:\\Users\\vitos\\Files\\Projects\\bdc\\penyisihan\\Data Test for BDC 2023 - Penyisihan\\DataTest2.png: 224x640 1 License Plate, 15.6ms\n",
      "Speed: 1.0ms preprocess, 15.6ms inference, 3.0ms postprocess per image at shape (1, 3, 640, 640)\n",
      "\n",
      "image 1/1 c:\\Users\\vitos\\Files\\Projects\\bdc\\penyisihan\\Data Test for BDC 2023 - Penyisihan\\DataTest20.png: 192x640 1 License Plate, 15.6ms\n"
     ]
    },
    {
     "name": "stdout",
     "output_type": "stream",
     "text": [
      "Saved c:\\Users\\vitos\\Files\\Projects\\bdc\\penyisihan\\raw_data/test\\DataTest16.png\n",
      "Saved c:\\Users\\vitos\\Files\\Projects\\bdc\\penyisihan\\raw_data/test\\DataTest17.png\n",
      "Saved c:\\Users\\vitos\\Files\\Projects\\bdc\\penyisihan\\raw_data/test\\DataTest18.png\n",
      "Saved c:\\Users\\vitos\\Files\\Projects\\bdc\\penyisihan\\raw_data/test\\DataTest19.png\n",
      "Saved c:\\Users\\vitos\\Files\\Projects\\bdc\\penyisihan\\raw_data/test\\DataTest2.png\n"
     ]
    },
    {
     "name": "stderr",
     "output_type": "stream",
     "text": [
      "Speed: 0.0ms preprocess, 15.6ms inference, 3.0ms postprocess per image at shape (1, 3, 640, 640)\n",
      "\n",
      "image 1/1 c:\\Users\\vitos\\Files\\Projects\\bdc\\penyisihan\\Data Test for BDC 2023 - Penyisihan\\DataTest21.png: 352x640 1 License Plate, 19.6ms\n",
      "Speed: 2.0ms preprocess, 19.6ms inference, 3.5ms postprocess per image at shape (1, 3, 640, 640)\n",
      "\n",
      "image 1/1 c:\\Users\\vitos\\Files\\Projects\\bdc\\penyisihan\\Data Test for BDC 2023 - Penyisihan\\DataTest22.png: 224x640 1 License Plate, 16.5ms\n",
      "Speed: 0.0ms preprocess, 16.5ms inference, 3.0ms postprocess per image at shape (1, 3, 640, 640)\n",
      "\n",
      "image 1/1 c:\\Users\\vitos\\Files\\Projects\\bdc\\penyisihan\\Data Test for BDC 2023 - Penyisihan\\DataTest23.png: 192x640 1 License Plate, 15.0ms\n",
      "Speed: 1.0ms preprocess, 15.0ms inference, 3.0ms postprocess per image at shape (1, 3, 640, 640)\n",
      "\n",
      "image 1/1 c:\\Users\\vitos\\Files\\Projects\\bdc\\penyisihan\\Data Test for BDC 2023 - Penyisihan\\DataTest24.png: 256x640 1 License Plate, 17.0ms\n",
      "Speed: 1.0ms preprocess, 17.0ms inference, 3.0ms postprocess per image at shape (1, 3, 640, 640)\n",
      "\n",
      "image 1/1 c:\\Users\\vitos\\Files\\Projects\\bdc\\penyisihan\\Data Test for BDC 2023 - Penyisihan\\DataTest25.png: 160x640 1 License Plate, 14.0ms\n",
      "Speed: 1.0ms preprocess, 14.0ms inference, 3.0ms postprocess per image at shape (1, 3, 640, 640)\n",
      "\n"
     ]
    },
    {
     "name": "stdout",
     "output_type": "stream",
     "text": [
      "Saved c:\\Users\\vitos\\Files\\Projects\\bdc\\penyisihan\\raw_data/test\\DataTest20.png\n",
      "Saved c:\\Users\\vitos\\Files\\Projects\\bdc\\penyisihan\\raw_data/test\\DataTest21.png\n",
      "Saved c:\\Users\\vitos\\Files\\Projects\\bdc\\penyisihan\\raw_data/test\\DataTest22.png\n",
      "Saved c:\\Users\\vitos\\Files\\Projects\\bdc\\penyisihan\\raw_data/test\\DataTest23.png\n",
      "Saved c:\\Users\\vitos\\Files\\Projects\\bdc\\penyisihan\\raw_data/test\\DataTest24.png\n",
      "Saved c:\\Users\\vitos\\Files\\Projects\\bdc\\penyisihan\\raw_data/test\\DataTest25.png\n"
     ]
    },
    {
     "name": "stderr",
     "output_type": "stream",
     "text": [
      "image 1/1 c:\\Users\\vitos\\Files\\Projects\\bdc\\penyisihan\\Data Test for BDC 2023 - Penyisihan\\DataTest26.png: 352x640 1 License Plate, 23.7ms\n",
      "Speed: 1.0ms preprocess, 23.7ms inference, 7.5ms postprocess per image at shape (1, 3, 640, 640)\n",
      "\n",
      "image 1/1 c:\\Users\\vitos\\Files\\Projects\\bdc\\penyisihan\\Data Test for BDC 2023 - Penyisihan\\DataTest27.png: 192x640 1 License Plate, 15.5ms\n",
      "Speed: 1.0ms preprocess, 15.5ms inference, 3.5ms postprocess per image at shape (1, 3, 640, 640)\n",
      "\n",
      "image 1/1 c:\\Users\\vitos\\Files\\Projects\\bdc\\penyisihan\\Data Test for BDC 2023 - Penyisihan\\DataTest28.png: 192x640 1 License Plate, 13.1ms\n",
      "Speed: 1.5ms preprocess, 13.1ms inference, 3.0ms postprocess per image at shape (1, 3, 640, 640)\n",
      "\n",
      "image 1/1 c:\\Users\\vitos\\Files\\Projects\\bdc\\penyisihan\\Data Test for BDC 2023 - Penyisihan\\DataTest29.png: 192x640 2 License Plates, 14.5ms\n",
      "Speed: 1.0ms preprocess, 14.5ms inference, 2.5ms postprocess per image at shape (1, 3, 640, 640)\n",
      "\n",
      "image 1/1 c:\\Users\\vitos\\Files\\Projects\\bdc\\penyisihan\\Data Test for BDC 2023 - Penyisihan\\DataTest3.png: 256x640 1 License Plate, 17.6ms\n",
      "Speed: 1.0ms preprocess, 17.6ms inference, 3.0ms postprocess per image at shape (1, 3, 640, 640)\n",
      "\n",
      "image 1/1 c:\\Users\\vitos\\Files\\Projects\\bdc\\penyisihan\\Data Test for BDC 2023 - Penyisihan\\DataTest30.png: 320x640 1 License Plate, 19.6ms\n"
     ]
    },
    {
     "name": "stdout",
     "output_type": "stream",
     "text": [
      "Saved c:\\Users\\vitos\\Files\\Projects\\bdc\\penyisihan\\raw_data/test\\DataTest26.png\n",
      "Saved c:\\Users\\vitos\\Files\\Projects\\bdc\\penyisihan\\raw_data/test\\DataTest27.png\n",
      "Saved c:\\Users\\vitos\\Files\\Projects\\bdc\\penyisihan\\raw_data/test\\DataTest28.png\n",
      "Saved c:\\Users\\vitos\\Files\\Projects\\bdc\\penyisihan\\raw_data/test\\DataTest29.png\n",
      "Saved c:\\Users\\vitos\\Files\\Projects\\bdc\\penyisihan\\raw_data/test\\DataTest3.png\n"
     ]
    },
    {
     "name": "stderr",
     "output_type": "stream",
     "text": [
      "Speed: 1.0ms preprocess, 19.6ms inference, 2.5ms postprocess per image at shape (1, 3, 640, 640)\n",
      "\n",
      "image 1/1 c:\\Users\\vitos\\Files\\Projects\\bdc\\penyisihan\\Data Test for BDC 2023 - Penyisihan\\DataTest31.png: 224x640 1 License Plate, 17.0ms\n",
      "Speed: 1.0ms preprocess, 17.0ms inference, 2.0ms postprocess per image at shape (1, 3, 640, 640)\n",
      "\n",
      "image 1/1 c:\\Users\\vitos\\Files\\Projects\\bdc\\penyisihan\\Data Test for BDC 2023 - Penyisihan\\DataTest32.png: 224x640 1 License Plate, 15.1ms\n",
      "Speed: 1.0ms preprocess, 15.1ms inference, 5.5ms postprocess per image at shape (1, 3, 640, 640)\n",
      "\n",
      "image 1/1 c:\\Users\\vitos\\Files\\Projects\\bdc\\penyisihan\\Data Test for BDC 2023 - Penyisihan\\DataTest33.png: 192x640 1 License Plate, 16.6ms\n",
      "Speed: 1.0ms preprocess, 16.6ms inference, 5.0ms postprocess per image at shape (1, 3, 640, 640)\n",
      "\n",
      "image 1/1 c:\\Users\\vitos\\Files\\Projects\\bdc\\penyisihan\\Data Test for BDC 2023 - Penyisihan\\DataTest34.png: 352x640 1 License Plate, 19.6ms\n",
      "Speed: 1.0ms preprocess, 19.6ms inference, 3.0ms postprocess per image at shape (1, 3, 640, 640)\n",
      "\n",
      "image 1/1 c:\\Users\\vitos\\Files\\Projects\\bdc\\penyisihan\\Data Test for BDC 2023 - Penyisihan\\DataTest35.png: 256x640 2 License Plates, 17.0ms\n"
     ]
    },
    {
     "name": "stdout",
     "output_type": "stream",
     "text": [
      "Saved c:\\Users\\vitos\\Files\\Projects\\bdc\\penyisihan\\raw_data/test\\DataTest30.png\n",
      "Saved c:\\Users\\vitos\\Files\\Projects\\bdc\\penyisihan\\raw_data/test\\DataTest31.png\n",
      "Saved c:\\Users\\vitos\\Files\\Projects\\bdc\\penyisihan\\raw_data/test\\DataTest32.png\n",
      "Saved c:\\Users\\vitos\\Files\\Projects\\bdc\\penyisihan\\raw_data/test\\DataTest33.png\n",
      "Saved c:\\Users\\vitos\\Files\\Projects\\bdc\\penyisihan\\raw_data/test\\DataTest34.png\n"
     ]
    },
    {
     "name": "stderr",
     "output_type": "stream",
     "text": [
      "Speed: 2.0ms preprocess, 17.0ms inference, 3.0ms postprocess per image at shape (1, 3, 640, 640)\n",
      "\n",
      "image 1/1 c:\\Users\\vitos\\Files\\Projects\\bdc\\penyisihan\\Data Test for BDC 2023 - Penyisihan\\DataTest36.png: 416x640 1 License Plate, 23.1ms\n",
      "Speed: 2.0ms preprocess, 23.1ms inference, 2.5ms postprocess per image at shape (1, 3, 640, 640)\n",
      "\n",
      "image 1/1 c:\\Users\\vitos\\Files\\Projects\\bdc\\penyisihan\\Data Test for BDC 2023 - Penyisihan\\DataTest37.png: 224x640 1 License Plate, 16.5ms\n",
      "Speed: 1.2ms preprocess, 16.5ms inference, 2.5ms postprocess per image at shape (1, 3, 640, 640)\n",
      "\n",
      "image 1/1 c:\\Users\\vitos\\Files\\Projects\\bdc\\penyisihan\\Data Test for BDC 2023 - Penyisihan\\DataTest38.png: 288x640 1 License Plate, 18.7ms\n",
      "Speed: 1.3ms preprocess, 18.7ms inference, 2.9ms postprocess per image at shape (1, 3, 640, 640)\n",
      "\n",
      "image 1/1 c:\\Users\\vitos\\Files\\Projects\\bdc\\penyisihan\\Data Test for BDC 2023 - Penyisihan\\DataTest39.png: 192x640 1 License Plate, 14.0ms\n",
      "Speed: 2.0ms preprocess, 14.0ms inference, 5.5ms postprocess per image at shape (1, 3, 640, 640)\n",
      "\n",
      "image 1/1 c:\\Users\\vitos\\Files\\Projects\\bdc\\penyisihan\\Data Test for BDC 2023 - Penyisihan\\DataTest4.png: 192x640 1 License Plate, 20.7ms\n"
     ]
    },
    {
     "name": "stdout",
     "output_type": "stream",
     "text": [
      "Saved c:\\Users\\vitos\\Files\\Projects\\bdc\\penyisihan\\raw_data/test\\DataTest35.png\n",
      "Saved c:\\Users\\vitos\\Files\\Projects\\bdc\\penyisihan\\raw_data/test\\DataTest36.png\n",
      "Saved c:\\Users\\vitos\\Files\\Projects\\bdc\\penyisihan\\raw_data/test\\DataTest37.png\n",
      "Saved c:\\Users\\vitos\\Files\\Projects\\bdc\\penyisihan\\raw_data/test\\DataTest38.png\n",
      "Saved c:\\Users\\vitos\\Files\\Projects\\bdc\\penyisihan\\raw_data/test\\DataTest39.png\n"
     ]
    },
    {
     "name": "stderr",
     "output_type": "stream",
     "text": [
      "Speed: 1.0ms preprocess, 20.7ms inference, 6.0ms postprocess per image at shape (1, 3, 640, 640)\n",
      "\n",
      "image 1/1 c:\\Users\\vitos\\Files\\Projects\\bdc\\penyisihan\\Data Test for BDC 2023 - Penyisihan\\DataTest40.png: 224x640 1 License Plate, 15.9ms\n",
      "Speed: 1.0ms preprocess, 15.9ms inference, 3.5ms postprocess per image at shape (1, 3, 640, 640)\n",
      "\n",
      "image 1/1 c:\\Users\\vitos\\Files\\Projects\\bdc\\penyisihan\\Data Test for BDC 2023 - Penyisihan\\DataTest41.png: 352x640 1 License Plate, 20.0ms\n",
      "Speed: 1.0ms preprocess, 20.0ms inference, 3.5ms postprocess per image at shape (1, 3, 640, 640)\n",
      "\n",
      "image 1/1 c:\\Users\\vitos\\Files\\Projects\\bdc\\penyisihan\\Data Test for BDC 2023 - Penyisihan\\DataTest42.png: 160x640 1 License Plate, 16.0ms\n",
      "Speed: 2.0ms preprocess, 16.0ms inference, 4.0ms postprocess per image at shape (1, 3, 640, 640)\n",
      "\n",
      "image 1/1 c:\\Users\\vitos\\Files\\Projects\\bdc\\penyisihan\\Data Test for BDC 2023 - Penyisihan\\DataTest43.png: 160x640 1 License Plate, 13.5ms\n",
      "Speed: 1.0ms preprocess, 13.5ms inference, 3.0ms postprocess per image at shape (1, 3, 640, 640)\n",
      "\n",
      "image 1/1 c:\\Users\\vitos\\Files\\Projects\\bdc\\penyisihan\\Data Test for BDC 2023 - Penyisihan\\DataTest44.png: 256x640 1 License Plate, 17.0ms\n"
     ]
    },
    {
     "name": "stdout",
     "output_type": "stream",
     "text": [
      "Saved c:\\Users\\vitos\\Files\\Projects\\bdc\\penyisihan\\raw_data/test\\DataTest4.png\n",
      "Saved c:\\Users\\vitos\\Files\\Projects\\bdc\\penyisihan\\raw_data/test\\DataTest40.png\n",
      "Saved c:\\Users\\vitos\\Files\\Projects\\bdc\\penyisihan\\raw_data/test\\DataTest41.png\n",
      "Saved c:\\Users\\vitos\\Files\\Projects\\bdc\\penyisihan\\raw_data/test\\DataTest42.png\n",
      "Saved c:\\Users\\vitos\\Files\\Projects\\bdc\\penyisihan\\raw_data/test\\DataTest43.png\n"
     ]
    },
    {
     "name": "stderr",
     "output_type": "stream",
     "text": [
      "Speed: 1.0ms preprocess, 17.0ms inference, 3.0ms postprocess per image at shape (1, 3, 640, 640)\n",
      "\n",
      "image 1/1 c:\\Users\\vitos\\Files\\Projects\\bdc\\penyisihan\\Data Test for BDC 2023 - Penyisihan\\DataTest45.png: 224x640 1 License Plate, 20.1ms\n",
      "Speed: 1.0ms preprocess, 20.1ms inference, 4.5ms postprocess per image at shape (1, 3, 640, 640)\n",
      "\n",
      "image 1/1 c:\\Users\\vitos\\Files\\Projects\\bdc\\penyisihan\\Data Test for BDC 2023 - Penyisihan\\DataTest46.png: 288x640 1 License Plate, 17.1ms\n",
      "Speed: 1.0ms preprocess, 17.1ms inference, 4.0ms postprocess per image at shape (1, 3, 640, 640)\n",
      "\n",
      "image 1/1 c:\\Users\\vitos\\Files\\Projects\\bdc\\penyisihan\\Data Test for BDC 2023 - Penyisihan\\DataTest47.png: 192x640 1 License Plate, 15.0ms\n",
      "Speed: 1.0ms preprocess, 15.0ms inference, 3.0ms postprocess per image at shape (1, 3, 640, 640)\n",
      "\n",
      "image 1/1 c:\\Users\\vitos\\Files\\Projects\\bdc\\penyisihan\\Data Test for BDC 2023 - Penyisihan\\DataTest48.png: 224x640 1 License Plate, 20.1ms\n",
      "Speed: 2.0ms preprocess, 20.1ms inference, 3.0ms postprocess per image at shape (1, 3, 640, 640)\n",
      "\n",
      "image 1/1 c:\\Users\\vitos\\Files\\Projects\\bdc\\penyisihan\\Data Test for BDC 2023 - Penyisihan\\DataTest49.png: 352x640 1 License Plate, 20.0ms\n"
     ]
    },
    {
     "name": "stdout",
     "output_type": "stream",
     "text": [
      "Saved c:\\Users\\vitos\\Files\\Projects\\bdc\\penyisihan\\raw_data/test\\DataTest44.png\n",
      "Saved c:\\Users\\vitos\\Files\\Projects\\bdc\\penyisihan\\raw_data/test\\DataTest45.png\n",
      "Saved c:\\Users\\vitos\\Files\\Projects\\bdc\\penyisihan\\raw_data/test\\DataTest46.png\n",
      "Saved c:\\Users\\vitos\\Files\\Projects\\bdc\\penyisihan\\raw_data/test\\DataTest47.png\n",
      "Saved c:\\Users\\vitos\\Files\\Projects\\bdc\\penyisihan\\raw_data/test\\DataTest48.png\n"
     ]
    },
    {
     "name": "stderr",
     "output_type": "stream",
     "text": [
      "Speed: 1.0ms preprocess, 20.0ms inference, 2.5ms postprocess per image at shape (1, 3, 640, 640)\n",
      "\n",
      "image 1/1 c:\\Users\\vitos\\Files\\Projects\\bdc\\penyisihan\\Data Test for BDC 2023 - Penyisihan\\DataTest5.png: 384x640 1 License Plate, 22.0ms\n",
      "Speed: 2.0ms preprocess, 22.0ms inference, 4.1ms postprocess per image at shape (1, 3, 640, 640)\n",
      "\n",
      "image 1/1 c:\\Users\\vitos\\Files\\Projects\\bdc\\penyisihan\\Data Test for BDC 2023 - Penyisihan\\DataTest50.png: 224x640 1 License Plate, 16.8ms\n",
      "Speed: 1.0ms preprocess, 16.8ms inference, 3.0ms postprocess per image at shape (1, 3, 640, 640)\n",
      "\n",
      "image 1/1 c:\\Users\\vitos\\Files\\Projects\\bdc\\penyisihan\\Data Test for BDC 2023 - Penyisihan\\DataTest51.png: 256x640 1 License Plate, 18.2ms\n",
      "Speed: 1.0ms preprocess, 18.2ms inference, 2.0ms postprocess per image at shape (1, 3, 640, 640)\n",
      "\n",
      "image 1/1 c:\\Users\\vitos\\Files\\Projects\\bdc\\penyisihan\\Data Test for BDC 2023 - Penyisihan\\DataTest52.png: 256x640 1 License Plate, 16.1ms\n",
      "Speed: 1.0ms preprocess, 16.1ms inference, 3.0ms postprocess per image at shape (1, 3, 640, 640)\n",
      "\n"
     ]
    },
    {
     "name": "stdout",
     "output_type": "stream",
     "text": [
      "Saved c:\\Users\\vitos\\Files\\Projects\\bdc\\penyisihan\\raw_data/test\\DataTest49.png\n",
      "Saved c:\\Users\\vitos\\Files\\Projects\\bdc\\penyisihan\\raw_data/test\\DataTest5.png\n",
      "Saved c:\\Users\\vitos\\Files\\Projects\\bdc\\penyisihan\\raw_data/test\\DataTest50.png\n",
      "Saved c:\\Users\\vitos\\Files\\Projects\\bdc\\penyisihan\\raw_data/test\\DataTest51.png\n",
      "Saved c:\\Users\\vitos\\Files\\Projects\\bdc\\penyisihan\\raw_data/test\\DataTest52.png\n"
     ]
    },
    {
     "name": "stderr",
     "output_type": "stream",
     "text": [
      "image 1/1 c:\\Users\\vitos\\Files\\Projects\\bdc\\penyisihan\\Data Test for BDC 2023 - Penyisihan\\DataTest53.png: 256x640 1 License Plate, 16.7ms\n",
      "Speed: 1.5ms preprocess, 16.7ms inference, 3.5ms postprocess per image at shape (1, 3, 640, 640)\n",
      "\n",
      "image 1/1 c:\\Users\\vitos\\Files\\Projects\\bdc\\penyisihan\\Data Test for BDC 2023 - Penyisihan\\DataTest54.png: 192x640 1 License Plate, 16.5ms\n",
      "Speed: 1.0ms preprocess, 16.5ms inference, 2.5ms postprocess per image at shape (1, 3, 640, 640)\n",
      "\n",
      "image 1/1 c:\\Users\\vitos\\Files\\Projects\\bdc\\penyisihan\\Data Test for BDC 2023 - Penyisihan\\DataTest55.png: 352x640 1 License Plate, 19.0ms\n",
      "Speed: 2.0ms preprocess, 19.0ms inference, 3.0ms postprocess per image at shape (1, 3, 640, 640)\n",
      "\n",
      "image 1/1 c:\\Users\\vitos\\Files\\Projects\\bdc\\penyisihan\\Data Test for BDC 2023 - Penyisihan\\DataTest56.png: 192x640 1 License Plate, 20.9ms\n",
      "Speed: 2.0ms preprocess, 20.9ms inference, 7.0ms postprocess per image at shape (1, 3, 640, 640)\n",
      "\n",
      "image 1/1 c:\\Users\\vitos\\Files\\Projects\\bdc\\penyisihan\\Data Test for BDC 2023 - Penyisihan\\DataTest57.png: 192x640 1 License Plate, 14.0ms\n",
      "Speed: 1.0ms preprocess, 14.0ms inference, 4.0ms postprocess per image at shape (1, 3, 640, 640)\n",
      "\n",
      "image 1/1 c:\\Users\\vitos\\Files\\Projects\\bdc\\penyisihan\\Data Test for BDC 2023 - Penyisihan\\DataTest58.png: 192x640 1 License Plate, 16.0ms\n"
     ]
    },
    {
     "name": "stdout",
     "output_type": "stream",
     "text": [
      "Saved c:\\Users\\vitos\\Files\\Projects\\bdc\\penyisihan\\raw_data/test\\DataTest53.png\n",
      "Saved c:\\Users\\vitos\\Files\\Projects\\bdc\\penyisihan\\raw_data/test\\DataTest54.png\n",
      "Saved c:\\Users\\vitos\\Files\\Projects\\bdc\\penyisihan\\raw_data/test\\DataTest55.png\n",
      "Saved c:\\Users\\vitos\\Files\\Projects\\bdc\\penyisihan\\raw_data/test\\DataTest56.png\n",
      "Saved c:\\Users\\vitos\\Files\\Projects\\bdc\\penyisihan\\raw_data/test\\DataTest57.png\n"
     ]
    },
    {
     "name": "stderr",
     "output_type": "stream",
     "text": [
      "Speed: 1.0ms preprocess, 16.0ms inference, 3.2ms postprocess per image at shape (1, 3, 640, 640)\n",
      "\n",
      "image 1/1 c:\\Users\\vitos\\Files\\Projects\\bdc\\penyisihan\\Data Test for BDC 2023 - Penyisihan\\DataTest59.png: 160x640 1 License Plate, 14.5ms\n",
      "Speed: 1.0ms preprocess, 14.5ms inference, 3.0ms postprocess per image at shape (1, 3, 640, 640)\n",
      "\n",
      "image 1/1 c:\\Users\\vitos\\Files\\Projects\\bdc\\penyisihan\\Data Test for BDC 2023 - Penyisihan\\DataTest6.png: 192x640 1 License Plate, 14.5ms\n",
      "Speed: 1.0ms preprocess, 14.5ms inference, 3.0ms postprocess per image at shape (1, 3, 640, 640)\n",
      "\n",
      "image 1/1 c:\\Users\\vitos\\Files\\Projects\\bdc\\penyisihan\\Data Test for BDC 2023 - Penyisihan\\DataTest60.png: 224x640 1 License Plate, 21.1ms\n",
      "Speed: 1.0ms preprocess, 21.1ms inference, 2.9ms postprocess per image at shape (1, 3, 640, 640)\n",
      "\n",
      "image 1/1 c:\\Users\\vitos\\Files\\Projects\\bdc\\penyisihan\\Data Test for BDC 2023 - Penyisihan\\DataTest61.png: 320x640 1 License Plate, 20.1ms\n",
      "Speed: 1.5ms preprocess, 20.1ms inference, 2.5ms postprocess per image at shape (1, 3, 640, 640)\n",
      "\n",
      "image 1/1 c:\\Users\\vitos\\Files\\Projects\\bdc\\penyisihan\\Data Test for BDC 2023 - Penyisihan\\DataTest62.png: 288x640 2 License Plates, 18.3ms\n"
     ]
    },
    {
     "name": "stdout",
     "output_type": "stream",
     "text": [
      "Saved c:\\Users\\vitos\\Files\\Projects\\bdc\\penyisihan\\raw_data/test\\DataTest58.png\n",
      "Saved c:\\Users\\vitos\\Files\\Projects\\bdc\\penyisihan\\raw_data/test\\DataTest59.png\n",
      "Saved c:\\Users\\vitos\\Files\\Projects\\bdc\\penyisihan\\raw_data/test\\DataTest6.png\n",
      "Saved c:\\Users\\vitos\\Files\\Projects\\bdc\\penyisihan\\raw_data/test\\DataTest60.png\n",
      "Saved c:\\Users\\vitos\\Files\\Projects\\bdc\\penyisihan\\raw_data/test\\DataTest61.png\n"
     ]
    },
    {
     "name": "stderr",
     "output_type": "stream",
     "text": [
      "Speed: 1.0ms preprocess, 18.3ms inference, 3.5ms postprocess per image at shape (1, 3, 640, 640)\n",
      "\n",
      "image 1/1 c:\\Users\\vitos\\Files\\Projects\\bdc\\penyisihan\\Data Test for BDC 2023 - Penyisihan\\DataTest63.png: 288x640 1 License Plate, 17.0ms\n",
      "Speed: 1.0ms preprocess, 17.0ms inference, 3.0ms postprocess per image at shape (1, 3, 640, 640)\n",
      "\n",
      "image 1/1 c:\\Users\\vitos\\Files\\Projects\\bdc\\penyisihan\\Data Test for BDC 2023 - Penyisihan\\DataTest64.png: 224x640 1 License Plate, 16.6ms\n",
      "Speed: 1.0ms preprocess, 16.6ms inference, 3.5ms postprocess per image at shape (1, 3, 640, 640)\n",
      "\n",
      "image 1/1 c:\\Users\\vitos\\Files\\Projects\\bdc\\penyisihan\\Data Test for BDC 2023 - Penyisihan\\DataTest65.png: 192x640 1 License Plate, 16.0ms\n",
      "Speed: 1.0ms preprocess, 16.0ms inference, 3.0ms postprocess per image at shape (1, 3, 640, 640)\n",
      "\n",
      "image 1/1 c:\\Users\\vitos\\Files\\Projects\\bdc\\penyisihan\\Data Test for BDC 2023 - Penyisihan\\DataTest66.png: 256x640 1 License Plate, 16.5ms\n",
      "Speed: 1.0ms preprocess, 16.5ms inference, 4.5ms postprocess per image at shape (1, 3, 640, 640)\n",
      "\n",
      "image 1/1 c:\\Users\\vitos\\Files\\Projects\\bdc\\penyisihan\\Data Test for BDC 2023 - Penyisihan\\DataTest67.png: 288x640 1 License Plate, 19.6ms\n"
     ]
    },
    {
     "name": "stdout",
     "output_type": "stream",
     "text": [
      "Saved c:\\Users\\vitos\\Files\\Projects\\bdc\\penyisihan\\raw_data/test\\DataTest62.png\n",
      "Saved c:\\Users\\vitos\\Files\\Projects\\bdc\\penyisihan\\raw_data/test\\DataTest63.png\n",
      "Saved c:\\Users\\vitos\\Files\\Projects\\bdc\\penyisihan\\raw_data/test\\DataTest64.png\n",
      "Saved c:\\Users\\vitos\\Files\\Projects\\bdc\\penyisihan\\raw_data/test\\DataTest65.png\n",
      "Saved c:\\Users\\vitos\\Files\\Projects\\bdc\\penyisihan\\raw_data/test\\DataTest66.png\n"
     ]
    },
    {
     "name": "stderr",
     "output_type": "stream",
     "text": [
      "Speed: 1.0ms preprocess, 19.6ms inference, 4.5ms postprocess per image at shape (1, 3, 640, 640)\n",
      "\n",
      "image 1/1 c:\\Users\\vitos\\Files\\Projects\\bdc\\penyisihan\\Data Test for BDC 2023 - Penyisihan\\DataTest68.png: 256x640 1 License Plate, 21.1ms\n",
      "Speed: 1.0ms preprocess, 21.1ms inference, 7.5ms postprocess per image at shape (1, 3, 640, 640)\n",
      "\n",
      "image 1/1 c:\\Users\\vitos\\Files\\Projects\\bdc\\penyisihan\\Data Test for BDC 2023 - Penyisihan\\DataTest69.png: 160x640 1 License Plate, 14.6ms\n",
      "Speed: 1.0ms preprocess, 14.6ms inference, 4.0ms postprocess per image at shape (1, 3, 640, 640)\n",
      "\n",
      "image 1/1 c:\\Users\\vitos\\Files\\Projects\\bdc\\penyisihan\\Data Test for BDC 2023 - Penyisihan\\DataTest7.png: 288x640 1 License Plate, 20.1ms\n",
      "Speed: 2.0ms preprocess, 20.1ms inference, 4.5ms postprocess per image at shape (1, 3, 640, 640)\n",
      "\n",
      "image 1/1 c:\\Users\\vitos\\Files\\Projects\\bdc\\penyisihan\\Data Test for BDC 2023 - Penyisihan\\DataTest70.png: 256x640 1 License Plate, 19.0ms\n",
      "Speed: 1.0ms preprocess, 19.0ms inference, 5.7ms postprocess per image at shape (1, 3, 640, 640)\n",
      "\n"
     ]
    },
    {
     "name": "stdout",
     "output_type": "stream",
     "text": [
      "Saved c:\\Users\\vitos\\Files\\Projects\\bdc\\penyisihan\\raw_data/test\\DataTest67.png\n",
      "Saved c:\\Users\\vitos\\Files\\Projects\\bdc\\penyisihan\\raw_data/test\\DataTest68.png\n",
      "Saved c:\\Users\\vitos\\Files\\Projects\\bdc\\penyisihan\\raw_data/test\\DataTest69.png\n",
      "Saved c:\\Users\\vitos\\Files\\Projects\\bdc\\penyisihan\\raw_data/test\\DataTest7.png\n",
      "Saved c:\\Users\\vitos\\Files\\Projects\\bdc\\penyisihan\\raw_data/test\\DataTest70.png\n"
     ]
    },
    {
     "name": "stderr",
     "output_type": "stream",
     "text": [
      "image 1/1 c:\\Users\\vitos\\Files\\Projects\\bdc\\penyisihan\\Data Test for BDC 2023 - Penyisihan\\DataTest71.png: 256x640 1 License Plate, 16.0ms\n",
      "Speed: 1.0ms preprocess, 16.0ms inference, 3.0ms postprocess per image at shape (1, 3, 640, 640)\n",
      "\n",
      "image 1/1 c:\\Users\\vitos\\Files\\Projects\\bdc\\penyisihan\\Data Test for BDC 2023 - Penyisihan\\DataTest72.png: 192x640 1 License Plate, 16.0ms\n",
      "Speed: 1.0ms preprocess, 16.0ms inference, 4.0ms postprocess per image at shape (1, 3, 640, 640)\n",
      "\n",
      "image 1/1 c:\\Users\\vitos\\Files\\Projects\\bdc\\penyisihan\\Data Test for BDC 2023 - Penyisihan\\DataTest73.png: 288x640 1 License Plate, 18.0ms\n",
      "Speed: 1.0ms preprocess, 18.0ms inference, 3.0ms postprocess per image at shape (1, 3, 640, 640)\n",
      "\n",
      "image 1/1 c:\\Users\\vitos\\Files\\Projects\\bdc\\penyisihan\\Data Test for BDC 2023 - Penyisihan\\DataTest74.png: 192x640 1 License Plate, 15.0ms\n",
      "Speed: 2.0ms preprocess, 15.0ms inference, 3.0ms postprocess per image at shape (1, 3, 640, 640)\n",
      "\n",
      "image 1/1 c:\\Users\\vitos\\Files\\Projects\\bdc\\penyisihan\\Data Test for BDC 2023 - Penyisihan\\DataTest75.png: 160x640 1 License Plate, 15.7ms\n",
      "Speed: 1.0ms preprocess, 15.7ms inference, 3.0ms postprocess per image at shape (1, 3, 640, 640)\n",
      "\n"
     ]
    },
    {
     "name": "stdout",
     "output_type": "stream",
     "text": [
      "Saved c:\\Users\\vitos\\Files\\Projects\\bdc\\penyisihan\\raw_data/test\\DataTest71.png\n",
      "Saved c:\\Users\\vitos\\Files\\Projects\\bdc\\penyisihan\\raw_data/test\\DataTest72.png\n",
      "Saved c:\\Users\\vitos\\Files\\Projects\\bdc\\penyisihan\\raw_data/test\\DataTest73.png\n",
      "Saved c:\\Users\\vitos\\Files\\Projects\\bdc\\penyisihan\\raw_data/test\\DataTest74.png\n",
      "Saved c:\\Users\\vitos\\Files\\Projects\\bdc\\penyisihan\\raw_data/test\\DataTest75.png\n"
     ]
    },
    {
     "name": "stderr",
     "output_type": "stream",
     "text": [
      "image 1/1 c:\\Users\\vitos\\Files\\Projects\\bdc\\penyisihan\\Data Test for BDC 2023 - Penyisihan\\DataTest76.png: 352x640 1 License Plate, 25.0ms\n",
      "Speed: 1.0ms preprocess, 25.0ms inference, 7.5ms postprocess per image at shape (1, 3, 640, 640)\n",
      "\n",
      "image 1/1 c:\\Users\\vitos\\Files\\Projects\\bdc\\penyisihan\\Data Test for BDC 2023 - Penyisihan\\DataTest77.png: 192x640 1 License Plate, 14.6ms\n",
      "Speed: 1.0ms preprocess, 14.6ms inference, 3.5ms postprocess per image at shape (1, 3, 640, 640)\n",
      "\n",
      "image 1/1 c:\\Users\\vitos\\Files\\Projects\\bdc\\penyisihan\\Data Test for BDC 2023 - Penyisihan\\DataTest78.png: 256x640 1 License Plate, 17.0ms\n",
      "Speed: 2.0ms preprocess, 17.0ms inference, 3.0ms postprocess per image at shape (1, 3, 640, 640)\n",
      "\n",
      "image 1/1 c:\\Users\\vitos\\Files\\Projects\\bdc\\penyisihan\\Data Test for BDC 2023 - Penyisihan\\DataTest79.png: 192x640 1 License Plate, 21.0ms\n",
      "Speed: 1.0ms preprocess, 21.0ms inference, 7.5ms postprocess per image at shape (1, 3, 640, 640)\n",
      "\n",
      "image 1/1 c:\\Users\\vitos\\Files\\Projects\\bdc\\penyisihan\\Data Test for BDC 2023 - Penyisihan\\DataTest8.png: 160x640 1 License Plate, 14.0ms\n",
      "Speed: 1.0ms preprocess, 14.0ms inference, 3.0ms postprocess per image at shape (1, 3, 640, 640)\n",
      "\n",
      "image 1/1 c:\\Users\\vitos\\Files\\Projects\\bdc\\penyisihan\\Data Test for BDC 2023 - Penyisihan\\DataTest80.png: 224x640 1 License Plate, 16.2ms\n"
     ]
    },
    {
     "name": "stdout",
     "output_type": "stream",
     "text": [
      "Saved c:\\Users\\vitos\\Files\\Projects\\bdc\\penyisihan\\raw_data/test\\DataTest76.png\n",
      "Saved c:\\Users\\vitos\\Files\\Projects\\bdc\\penyisihan\\raw_data/test\\DataTest77.png\n",
      "Saved c:\\Users\\vitos\\Files\\Projects\\bdc\\penyisihan\\raw_data/test\\DataTest78.png\n",
      "Saved c:\\Users\\vitos\\Files\\Projects\\bdc\\penyisihan\\raw_data/test\\DataTest79.png\n",
      "Saved c:\\Users\\vitos\\Files\\Projects\\bdc\\penyisihan\\raw_data/test\\DataTest8.png\n"
     ]
    },
    {
     "name": "stderr",
     "output_type": "stream",
     "text": [
      "Speed: 1.0ms preprocess, 16.2ms inference, 2.5ms postprocess per image at shape (1, 3, 640, 640)\n",
      "\n",
      "image 1/1 c:\\Users\\vitos\\Files\\Projects\\bdc\\penyisihan\\Data Test for BDC 2023 - Penyisihan\\DataTest81.png: 192x640 1 License Plate, 15.5ms\n",
      "Speed: 1.0ms preprocess, 15.5ms inference, 3.5ms postprocess per image at shape (1, 3, 640, 640)\n",
      "\n",
      "image 1/1 c:\\Users\\vitos\\Files\\Projects\\bdc\\penyisihan\\Data Test for BDC 2023 - Penyisihan\\DataTest82.png: 384x640 1 License Plate, 22.7ms\n",
      "Speed: 1.0ms preprocess, 22.7ms inference, 4.0ms postprocess per image at shape (1, 3, 640, 640)\n",
      "\n",
      "image 1/1 c:\\Users\\vitos\\Files\\Projects\\bdc\\penyisihan\\Data Test for BDC 2023 - Penyisihan\\DataTest83.png: 192x640 1 License Plate, 23.0ms\n",
      "Speed: 1.0ms preprocess, 23.0ms inference, 3.0ms postprocess per image at shape (1, 3, 640, 640)\n",
      "\n",
      "image 1/1 c:\\Users\\vitos\\Files\\Projects\\bdc\\penyisihan\\Data Test for BDC 2023 - Penyisihan\\DataTest84.png: 192x640 1 License Plate, 12.5ms\n",
      "Speed: 1.0ms preprocess, 12.5ms inference, 4.5ms postprocess per image at shape (1, 3, 640, 640)\n",
      "\n",
      "image 1/1 c:\\Users\\vitos\\Files\\Projects\\bdc\\penyisihan\\Data Test for BDC 2023 - Penyisihan\\DataTest85.png: 352x640 1 License Plate, 22.6ms\n"
     ]
    },
    {
     "name": "stdout",
     "output_type": "stream",
     "text": [
      "Saved c:\\Users\\vitos\\Files\\Projects\\bdc\\penyisihan\\raw_data/test\\DataTest80.png\n",
      "Saved c:\\Users\\vitos\\Files\\Projects\\bdc\\penyisihan\\raw_data/test\\DataTest81.png\n",
      "Saved c:\\Users\\vitos\\Files\\Projects\\bdc\\penyisihan\\raw_data/test\\DataTest82.png\n",
      "Saved c:\\Users\\vitos\\Files\\Projects\\bdc\\penyisihan\\raw_data/test\\DataTest83.png\n",
      "Saved c:\\Users\\vitos\\Files\\Projects\\bdc\\penyisihan\\raw_data/test\\DataTest84.png\n"
     ]
    },
    {
     "name": "stderr",
     "output_type": "stream",
     "text": [
      "Speed: 1.1ms preprocess, 22.6ms inference, 3.0ms postprocess per image at shape (1, 3, 640, 640)\n",
      "\n",
      "image 1/1 c:\\Users\\vitos\\Files\\Projects\\bdc\\penyisihan\\Data Test for BDC 2023 - Penyisihan\\DataTest86.png: 256x640 1 License Plate, 17.3ms\n",
      "Speed: 2.0ms preprocess, 17.3ms inference, 3.0ms postprocess per image at shape (1, 3, 640, 640)\n",
      "\n",
      "image 1/1 c:\\Users\\vitos\\Files\\Projects\\bdc\\penyisihan\\Data Test for BDC 2023 - Penyisihan\\DataTest87.png: 192x640 1 License Plate, 16.5ms\n",
      "Speed: 1.0ms preprocess, 16.5ms inference, 3.3ms postprocess per image at shape (1, 3, 640, 640)\n",
      "\n",
      "image 1/1 c:\\Users\\vitos\\Files\\Projects\\bdc\\penyisihan\\Data Test for BDC 2023 - Penyisihan\\DataTest88.png: 320x640 1 License Plate, 19.6ms\n",
      "Speed: 1.0ms preprocess, 19.6ms inference, 2.5ms postprocess per image at shape (1, 3, 640, 640)\n",
      "\n",
      "image 1/1 c:\\Users\\vitos\\Files\\Projects\\bdc\\penyisihan\\Data Test for BDC 2023 - Penyisihan\\DataTest89.png: 256x640 3 License Plates, 22.0ms\n",
      "Speed: 2.0ms preprocess, 22.0ms inference, 3.0ms postprocess per image at shape (1, 3, 640, 640)\n",
      "\n",
      "image 1/1 c:\\Users\\vitos\\Files\\Projects\\bdc\\penyisihan\\Data Test for BDC 2023 - Penyisihan\\DataTest9.png: 256x640 1 License Plate, 16.0ms\n"
     ]
    },
    {
     "name": "stdout",
     "output_type": "stream",
     "text": [
      "Saved c:\\Users\\vitos\\Files\\Projects\\bdc\\penyisihan\\raw_data/test\\DataTest85.png\n",
      "Saved c:\\Users\\vitos\\Files\\Projects\\bdc\\penyisihan\\raw_data/test\\DataTest86.png\n",
      "Saved c:\\Users\\vitos\\Files\\Projects\\bdc\\penyisihan\\raw_data/test\\DataTest87.png\n",
      "Saved c:\\Users\\vitos\\Files\\Projects\\bdc\\penyisihan\\raw_data/test\\DataTest88.png\n",
      "Saved c:\\Users\\vitos\\Files\\Projects\\bdc\\penyisihan\\raw_data/test\\DataTest89.png\n"
     ]
    },
    {
     "name": "stderr",
     "output_type": "stream",
     "text": [
      "Speed: 1.0ms preprocess, 16.0ms inference, 4.0ms postprocess per image at shape (1, 3, 640, 640)\n",
      "\n",
      "image 1/1 c:\\Users\\vitos\\Files\\Projects\\bdc\\penyisihan\\Data Test for BDC 2023 - Penyisihan\\DataTest90.png: 224x640 1 License Plate, 17.0ms\n",
      "Speed: 1.0ms preprocess, 17.0ms inference, 3.0ms postprocess per image at shape (1, 3, 640, 640)\n",
      "\n",
      "image 1/1 c:\\Users\\vitos\\Files\\Projects\\bdc\\penyisihan\\Data Test for BDC 2023 - Penyisihan\\DataTest91.png: 256x640 1 License Plate, 18.0ms\n",
      "Speed: 1.0ms preprocess, 18.0ms inference, 3.0ms postprocess per image at shape (1, 3, 640, 640)\n",
      "\n",
      "image 1/1 c:\\Users\\vitos\\Files\\Projects\\bdc\\penyisihan\\Data Test for BDC 2023 - Penyisihan\\DataTest92.png: 288x640 1 License Plate, 18.6ms\n",
      "Speed: 1.5ms preprocess, 18.6ms inference, 3.0ms postprocess per image at shape (1, 3, 640, 640)\n",
      "\n",
      "image 1/1 c:\\Users\\vitos\\Files\\Projects\\bdc\\penyisihan\\Data Test for BDC 2023 - Penyisihan\\DataTest93.png: 288x640 1 License Plate, 16.0ms\n",
      "Speed: 2.0ms preprocess, 16.0ms inference, 3.0ms postprocess per image at shape (1, 3, 640, 640)\n",
      "\n",
      "image 1/1 c:\\Users\\vitos\\Files\\Projects\\bdc\\penyisihan\\Data Test for BDC 2023 - Penyisihan\\DataTest94.png: 224x640 2 License Plates, 16.1ms\n"
     ]
    },
    {
     "name": "stdout",
     "output_type": "stream",
     "text": [
      "Saved c:\\Users\\vitos\\Files\\Projects\\bdc\\penyisihan\\raw_data/test\\DataTest9.png\n",
      "Saved c:\\Users\\vitos\\Files\\Projects\\bdc\\penyisihan\\raw_data/test\\DataTest90.png\n",
      "Saved c:\\Users\\vitos\\Files\\Projects\\bdc\\penyisihan\\raw_data/test\\DataTest91.png\n",
      "Saved c:\\Users\\vitos\\Files\\Projects\\bdc\\penyisihan\\raw_data/test\\DataTest92.png\n",
      "Saved c:\\Users\\vitos\\Files\\Projects\\bdc\\penyisihan\\raw_data/test\\DataTest93.png\n"
     ]
    },
    {
     "name": "stderr",
     "output_type": "stream",
     "text": [
      "Speed: 2.0ms preprocess, 16.1ms inference, 3.5ms postprocess per image at shape (1, 3, 640, 640)\n",
      "\n",
      "image 1/1 c:\\Users\\vitos\\Files\\Projects\\bdc\\penyisihan\\Data Test for BDC 2023 - Penyisihan\\DataTest95.png: 160x640 1 License Plate, 22.5ms\n",
      "Speed: 1.0ms preprocess, 22.5ms inference, 7.3ms postprocess per image at shape (1, 3, 640, 640)\n",
      "\n",
      "image 1/1 c:\\Users\\vitos\\Files\\Projects\\bdc\\penyisihan\\Data Test for BDC 2023 - Penyisihan\\DataTest96.png: 256x640 2 License Plates, 17.6ms\n",
      "Speed: 1.0ms preprocess, 17.6ms inference, 3.0ms postprocess per image at shape (1, 3, 640, 640)\n",
      "\n",
      "image 1/1 c:\\Users\\vitos\\Files\\Projects\\bdc\\penyisihan\\Data Test for BDC 2023 - Penyisihan\\DataTest97.png: 192x640 1 License Plate, 15.0ms\n",
      "Speed: 0.0ms preprocess, 15.0ms inference, 3.0ms postprocess per image at shape (1, 3, 640, 640)\n",
      "\n",
      "image 1/1 c:\\Users\\vitos\\Files\\Projects\\bdc\\penyisihan\\Data Test for BDC 2023 - Penyisihan\\DataTest98.png: 192x640 1 License Plate, 14.0ms\n",
      "Speed: 1.0ms preprocess, 14.0ms inference, 3.0ms postprocess per image at shape (1, 3, 640, 640)\n",
      "\n",
      "image 1/1 c:\\Users\\vitos\\Files\\Projects\\bdc\\penyisihan\\Data Test for BDC 2023 - Penyisihan\\DataTest99.png: 160x640 1 License Plate, 15.2ms\n",
      "Speed: 2.0ms preprocess, 15.2ms inference, 3.0ms postprocess per image at shape (1, 3, 640, 640)\n"
     ]
    },
    {
     "name": "stdout",
     "output_type": "stream",
     "text": [
      "Saved c:\\Users\\vitos\\Files\\Projects\\bdc\\penyisihan\\raw_data/test\\DataTest94.png\n",
      "Saved c:\\Users\\vitos\\Files\\Projects\\bdc\\penyisihan\\raw_data/test\\DataTest95.png\n",
      "Saved c:\\Users\\vitos\\Files\\Projects\\bdc\\penyisihan\\raw_data/test\\DataTest96.png\n",
      "Saved c:\\Users\\vitos\\Files\\Projects\\bdc\\penyisihan\\raw_data/test\\DataTest97.png\n",
      "Saved c:\\Users\\vitos\\Files\\Projects\\bdc\\penyisihan\\raw_data/test\\DataTest98.png\n",
      "Saved c:\\Users\\vitos\\Files\\Projects\\bdc\\penyisihan\\raw_data/test\\DataTest99.png\n"
     ]
    }
   ],
   "source": [
    "# scan raw_data/images directory\n",
    "# for each image, run pipeline_stage1\n",
    "# save result to raw_data/stage_1 directory\n",
    "file_list = os.listdir(\"Data Test for BDC 2023 - Penyisihan\")\n",
    "for file in file_list:\n",
    "    pipeline_stage1(\"Data Test for BDC 2023 - Penyisihan/\" + file, \"raw_data/test\", model)"
   ]
  }
 ],
 "metadata": {
  "kernelspec": {
   "display_name": "ds",
   "language": "python",
   "name": "python3"
  },
  "language_info": {
   "codemirror_mode": {
    "name": "ipython",
    "version": 3
   },
   "file_extension": ".py",
   "mimetype": "text/x-python",
   "name": "python",
   "nbconvert_exporter": "python",
   "pygments_lexer": "ipython3",
   "version": "3.10.11"
  },
  "orig_nbformat": 4
 },
 "nbformat": 4,
 "nbformat_minor": 2
}
