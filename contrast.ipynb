{
 "cells": [
  {
   "cell_type": "code",
   "execution_count": 57,
   "metadata": {},
   "outputs": [],
   "source": [
    "import cv2 as cv\n",
    "import numpy as np\n",
    "import os"
   ]
  },
  {
   "cell_type": "code",
   "execution_count": 16,
   "metadata": {},
   "outputs": [],
   "source": [
    "img = cv.imread(\"test_data_stage_1_76perf/test_data_stage_1/DataTest64.png\", )\n",
    "converted = cv.convertScaleAbs(img, alpha=2.0, beta=0.0)\n",
    "cv.imshow('contrast', converted)\n",
    "cv.imshow('original', img)\n",
    "cv.waitKey(0)\n",
    "cv.destroyAllWindows()"
   ]
  },
  {
   "cell_type": "code",
   "execution_count": 54,
   "metadata": {},
   "outputs": [],
   "source": [
    "def srgbtolin(x):\n",
    "    if x <= 0.04045:\n",
    "        return x / 12.92\n",
    "    else:\n",
    "        return ((x + 0.055) / 1.055) ** 2.4\n",
    "\n",
    "luminance_res = []\n",
    "for i in range(1, 101):\n",
    "    img_rgb = cv.imread(f\"DataTest/DataTest{i}.png\")\n",
    "    b, g, r = cv.split(img_rgb / 255)\n",
    "    b_lin = np.vectorize(srgbtolin)(b)\n",
    "    g_lin = np.vectorize(srgbtolin)(g)\n",
    "    r_lin = np.vectorize(srgbtolin)(r)\n",
    "    avg_luminance = np.average(b_lin * 0.0722 + g_lin * 0.7152 + r_lin * 0.2126)\n",
    "    luminance_res.append((i, avg_luminance))\n",
    "sorted_luminance = sorted(luminance_res, key=lambda x: x[1])\n"
   ]
  },
  {
   "cell_type": "code",
   "execution_count": 61,
   "metadata": {},
   "outputs": [],
   "source": [
    "def calculate_luminance_avg(img_rgb):\n",
    "    b, g, r = cv.split(img_rgb / 255)\n",
    "    b_lin = np.vectorize(srgbtolin)(b)\n",
    "    g_lin = np.vectorize(srgbtolin)(g)\n",
    "    r_lin = np.vectorize(srgbtolin)(r)\n",
    "    avg_luminance = np.average(b_lin * 0.0722 + g_lin * 0.7152 + r_lin * 0.2126)\n",
    "    return avg_luminance"
   ]
  },
  {
   "cell_type": "code",
   "execution_count": 52,
   "metadata": {},
   "outputs": [],
   "source": [
    "i = 1\n",
    "for id, luminance in sorted_luminance:\n",
    "    img = cv.imread(f\"DataTrain/DataTrain{id}.png\")\n",
    "    cv.imwrite(f\"luminance-train/{i}_DataTrain{id}.png\", img)\n",
    "    i += 1"
   ]
  },
  {
   "attachments": {},
   "cell_type": "markdown",
   "metadata": {},
   "source": [
    "#### Thresholding luminance"
   ]
  },
  {
   "cell_type": "code",
   "execution_count": 77,
   "metadata": {},
   "outputs": [],
   "source": [
    "folder_path = \"test_data_stage_1_76perf/test_data_stage_1\"\n",
    "dest_path = \"test_data_contrast_76\"\n",
    "threshold = 0.1273920940530704 # ini dari hasil ngurutin trus diambil bates yg kira2 bagus wkwk\n",
    "filenames = os.listdir(folder_path)\n",
    "for filename in filenames:\n",
    "    if filename == \"test.txt\":\n",
    "        continue\n",
    "    img = cv.imread(f\"{folder_path}/{filename}\")\n",
    "    if calculate_luminance_avg(img) < threshold:\n",
    "        converted = cv.convertScaleAbs(img, alpha=2.0, beta=0.0)\n",
    "        # cv.imwrite(f\"luminance/only-threshold-train/{filename[:-4]}_lum.png\", converted)\n",
    "        cv.imwrite(f\"{dest_path}/{filename}\", converted)\n",
    "    else:\n",
    "        cv.imwrite(f\"{dest_path}/{filename}\", img)\n",
    "    #     cv.imwrite(f\"luminance/only-threshold-test/{filename}\", img)"
   ]
  }
 ],
 "metadata": {
  "kernelspec": {
   "display_name": "Python 3",
   "language": "python",
   "name": "python3"
  },
  "language_info": {
   "codemirror_mode": {
    "name": "ipython",
    "version": 3
   },
   "file_extension": ".py",
   "mimetype": "text/x-python",
   "name": "python",
   "nbconvert_exporter": "python",
   "pygments_lexer": "ipython3",
   "version": "3.10.6"
  },
  "orig_nbformat": 4
 },
 "nbformat": 4,
 "nbformat_minor": 2
}
